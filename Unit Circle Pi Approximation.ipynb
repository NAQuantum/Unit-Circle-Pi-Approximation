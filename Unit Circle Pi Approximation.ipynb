{
 "cells": [
  {
   "cell_type": "code",
   "execution_count": null,
   "metadata": {},
   "outputs": [],
   "source": [
    "from random import *\n",
    "import numpy as np\n",
    "import matplotlib.pyplot as plt\n",
    "def pair():\n",
    "    return (random(),random())\n",
    "def dist(x):\n",
    "    (a,b)=x\n",
    "    return np.sqrt(a**2+b**2)\n",
    "def dart():\n",
    "    return dist(pair())"
   ]
  },
  {
   "cell_type": "code",
   "execution_count": null,
   "metadata": {},
   "outputs": [],
   "source": [
    "# Dart creation and counting\n",
    "def add(darts,length):\n",
    "    for x in range(length):\n",
    "        darts += [dart()]\n",
    "    return darts\n",
    "def approx(darts):\n",
    "    c = 0\n",
    "    length = len(darts)\n",
    "    for i in range(length):\n",
    "        if darts[i]<=1.0:\n",
    "            c+=1\n",
    "    return 4*c/length\n",
    "def error(darts):\n",
    "    return abs(approx(darts)-np.pi)"
   ]
  },
  {
   "cell_type": "code",
   "execution_count": null,
   "metadata": {},
   "outputs": [],
   "source": [
    "# Iterations\n",
    "I = 7\n",
    "\n",
    "# Generation of approximations\n",
    "returns = [dart()]\n",
    "errors = []\n",
    "for i in range(1,I+1):\n",
    "    returns = add(returns,10**i-10**(i-1))\n",
    "    errors += [error(returns)]"
   ]
  },
  {
   "cell_type": "code",
   "execution_count": null,
   "metadata": {},
   "outputs": [],
   "source": [
    "# Simple generation for graph\n",
    "mylistylist = []\n",
    "for i in range(1,I+1):\n",
    "    mylistylist += [10**i]\n",
    "# Graph\n",
    "plt.xscale('log')\n",
    "plt.yscale('log')\n",
    "plt.plot(mylistylist, errors, 'o')\n",
    "plt.xlabel(\"Darts\")\n",
    "plt.ylabel(\"Error in Approximation\")"
   ]
  }
 ],
 "metadata": {
  "kernelspec": {
   "display_name": "Python 3",
   "language": "python",
   "name": "python3"
  },
  "language_info": {
   "codemirror_mode": {
    "name": "ipython",
    "version": 3
   },
   "file_extension": ".py",
   "mimetype": "text/x-python",
   "name": "python",
   "nbconvert_exporter": "python",
   "pygments_lexer": "ipython3",
   "version": "3.7.0"
  }
 },
 "nbformat": 4,
 "nbformat_minor": 2
}
